{
 "cells": [
  {
   "cell_type": "code",
   "execution_count": null,
   "id": "fbbf8494-1615-4738-9c57-9ddbb81a97f7",
   "metadata": {},
   "outputs": [],
   "source": [
    "import pandas as pd\n",
    "import numpy as np\n",
    "\n",
    "from bertopic import BERTopic\n",
    "from sentence_transformers import SentenceTransformer\n",
    "import nltk"
   ]
  },
  {
   "cell_type": "code",
   "execution_count": null,
   "id": "cdfbab24-f726-451c-8ae8-560bc84b4bbd",
   "metadata": {},
   "outputs": [],
   "source": [
    "dataset = pd.read_csv('../data/raw/crime_news.csv')"
   ]
  },
  {
   "cell_type": "code",
   "execution_count": null,
   "id": "394d8153-f4f1-49a4-82f2-e9c15eaedf8b",
   "metadata": {},
   "outputs": [],
   "source": [
    "articles = dataset['text']"
   ]
  },
  {
   "cell_type": "code",
   "execution_count": null,
   "id": "edbda009-e78f-4255-be76-4c240ed8c207",
   "metadata": {},
   "outputs": [],
   "source": [
    "from nltk.tokenize import sent_tokenize, word_tokenize\n",
    "nltk.download(\"punkt_tab\")\n",
    "\n",
    "sentences = [sent_tokenize(str(article), language='italian') for article in articles]\n",
    "#track the document ID for all sentences\n",
    "doc_ids = [[idx] * len(s) for idx, s in enumerate(sentences)]\n",
    "sentences = [sentence for doc in sentences for sentence in doc]\n",
    "doc_ids = [idx for l in doc_ids for idx in l]"
   ]
  },
  {
   "cell_type": "code",
   "execution_count": null,
   "id": "a499a2fb-2b7c-4b61-b5e6-06101d19c0ad",
   "metadata": {},
   "outputs": [],
   "source": [
    "#embedding_model = SentenceTransformer('nickprock/sentence-bert-base-italian-uncased')\n",
    "embedding_model = SentenceTransformer('sentence-transformers/paraphrase-multilingual-MiniLM-L12-v2')"
   ]
  },
  {
   "cell_type": "code",
   "execution_count": null,
   "id": "6ebd0b58-6461-413c-b212-656094c6a0c3",
   "metadata": {},
   "outputs": [],
   "source": [
    "from sklearn.feature_extraction.text import CountVectorizer\n",
    "from nltk.corpus import stopwords\n",
    "import nltk\n",
    "\n",
    "#4 - VECTORIZER\n",
    "nltk.download('stopwords')\n",
    "stop_words_it = stopwords.words('italian')\n",
    "\n",
    "vectorizer_model = CountVectorizer(stop_words=stop_words_it, min_df=2, ngram_range=(1, 2))"
   ]
  },
  {
   "cell_type": "code",
   "execution_count": null,
   "id": "4ce23fac-2c99-4216-9210-b3c8ac6a1a60",
   "metadata": {},
   "outputs": [],
   "source": [
    "from bertopic.vectorizers import ClassTfidfTransformer\n",
    "\n",
    "#5 - c-TF-IDF\n",
    "ctfidf_model = ClassTfidfTransformer(bm25_weighting=True, reduce_frequent_words=True)"
   ]
  },
  {
   "cell_type": "code",
   "execution_count": null,
   "id": "60fcf006-297b-4d87-80a1-05cb80a6a332",
   "metadata": {},
   "outputs": [],
   "source": [
    "from bertopic.representation import KeyBERTInspired, MaximalMarginalRelevance, TextGeneration\n",
    "\n",
    "# KeyBERT\n",
    "keybert = KeyBERTInspired()\n",
    "\n",
    "# MMR\n",
    "mmr = MaximalMarginalRelevance(diversity=0.3)\n",
    "\n",
    "# Text generation with Llama 3\n",
    "\n",
    "# All representation models\n",
    "representation_model = {\n",
    "    \"KeyBERT\": keybert,\n",
    "    \"MMR\": mmr,\n",
    "}"
   ]
  },
  {
   "cell_type": "code",
   "execution_count": null,
   "id": "97b2d55e-b1d3-4d54-9c76-3eed343aeb5c",
   "metadata": {},
   "outputs": [],
   "source": [
    "from sklearn.cluster import KMeans\n",
    "from sklearn.decomposition import PCA\n",
    "\n",
    "dim_model = PCA(n_components=5)\n",
    "cluster_model = KMeans(n_clusters=50)"
   ]
  },
  {
   "cell_type": "code",
   "execution_count": null,
   "id": "2371139a-6880-4bd4-8888-c2d7f4a7387d",
   "metadata": {},
   "outputs": [],
   "source": [
    "# Create BERTopic model\n",
    "topic_model2 = BERTopic(\n",
    "                        #Pipeline models\n",
    "                       embedding_model=embedding_model,\n",
    "                       umap_model=dim_model,\n",
    "                       hdbscan_model=cluster_model,\n",
    "                       vectorizer_model=vectorizer_model,\n",
    "                       ctfidf_model=ctfidf_model,\n",
    "                       representation_model=representation_model,\n",
    "                       # Hyperparameters\n",
    "                       top_n_words=10,\n",
    "                       verbose=True)\n",
    "\n",
    "# Train model\n",
    "topics, probs = topic_model2.fit_transform(sentences, embeddings)"
   ]
  },
  {
   "cell_type": "code",
   "execution_count": null,
   "id": "2c55b942-1d44-4585-b873-161724542553",
   "metadata": {},
   "outputs": [],
   "source": [
    "topic_model2.get_topic_info()"
   ]
  },
  {
   "cell_type": "code",
   "execution_count": null,
   "id": "b1e34119-90e9-4829-9943-6f61fd55c27c",
   "metadata": {},
   "outputs": [],
   "source": [
    "# Visualize topics with custom labels\n",
    "topic_model2.visualize_topics()"
   ]
  },
  {
   "cell_type": "code",
   "execution_count": null,
   "id": "596002ef-4c73-4ae4-a2d5-822e86bc5d9a",
   "metadata": {},
   "outputs": [],
   "source": [
    "# Visualize hierarchy with custom labels\n",
    "topic_model2.visualize_hierarchy()"
   ]
  },
  {
   "cell_type": "code",
   "execution_count": null,
   "id": "d59e7ad7-dc97-4c46-875b-7d5da989f7a9",
   "metadata": {},
   "outputs": [],
   "source": [
    "topic_model2.visualize_heatmap()"
   ]
  },
  {
   "cell_type": "code",
   "execution_count": null,
   "id": "a874f18c-fdf2-4a5e-b3bf-699f8ddbe4a5",
   "metadata": {},
   "outputs": [],
   "source": [
    "topic_model2.visualize_barchart(top_n_topics=15, n_words=5)"
   ]
  },
  {
   "cell_type": "code",
   "execution_count": null,
   "id": "f4ba846f-c54f-4aff-8bb1-a1bcdf48a572",
   "metadata": {},
   "outputs": [],
   "source": []
  }
 ],
 "metadata": {
  "kernelspec": {
   "display_name": "Python 3 (ipykernel)",
   "language": "python",
   "name": "python3"
  },
  "language_info": {
   "codemirror_mode": {
    "name": "ipython",
    "version": 3
   },
   "file_extension": ".py",
   "mimetype": "text/x-python",
   "name": "python",
   "nbconvert_exporter": "python",
   "pygments_lexer": "ipython3",
   "version": "3.9.21"
  }
 },
 "nbformat": 4,
 "nbformat_minor": 5
}
